{
 "cells": [
  {
   "cell_type": "code",
   "execution_count": 1,
   "id": "363ea9a3",
   "metadata": {},
   "outputs": [],
   "source": [
    "import pandas as pd\n",
    "import numpy as np\n",
    "from sklearn.model_selection import train_test_split\n",
    "from sklearn.feature_selection import mutual_info_classif\n",
    "from sklearn.feature_selection import SelectKBest\n",
    "from sklearn.feature_selection import chi2\n",
    "import seaborn as sns\n",
    "from sklearn.ensemble import ExtraTreesClassifier"
   ]
  },
  {
   "cell_type": "code",
   "execution_count": 2,
   "id": "5681b9a0",
   "metadata": {},
   "outputs": [
    {
     "data": {
      "text/html": [
       "<div>\n",
       "<style scoped>\n",
       "    .dataframe tbody tr th:only-of-type {\n",
       "        vertical-align: middle;\n",
       "    }\n",
       "\n",
       "    .dataframe tbody tr th {\n",
       "        vertical-align: top;\n",
       "    }\n",
       "\n",
       "    .dataframe thead th {\n",
       "        text-align: right;\n",
       "    }\n",
       "</style>\n",
       "<table border=\"1\" class=\"dataframe\">\n",
       "  <thead>\n",
       "    <tr style=\"text-align: right;\">\n",
       "      <th></th>\n",
       "      <th>Age</th>\n",
       "      <th>Attrition</th>\n",
       "      <th>BusinessTravel</th>\n",
       "      <th>Department</th>\n",
       "      <th>DistanceFromHome</th>\n",
       "      <th>Education</th>\n",
       "      <th>EducationField</th>\n",
       "      <th>EmployeeCount</th>\n",
       "      <th>EmployeeID</th>\n",
       "      <th>Gender</th>\n",
       "      <th>...</th>\n",
       "      <th>NumCompaniesWorked</th>\n",
       "      <th>Over18</th>\n",
       "      <th>PercentSalaryHike</th>\n",
       "      <th>StandardHours</th>\n",
       "      <th>StockOptionLevel</th>\n",
       "      <th>TotalWorkingYears</th>\n",
       "      <th>TrainingTimesLastYear</th>\n",
       "      <th>YearsAtCompany</th>\n",
       "      <th>YearsSinceLastPromotion</th>\n",
       "      <th>YearsWithCurrManager</th>\n",
       "    </tr>\n",
       "  </thead>\n",
       "  <tbody>\n",
       "    <tr>\n",
       "      <th>0</th>\n",
       "      <td>51</td>\n",
       "      <td>No</td>\n",
       "      <td>Travel_Rarely</td>\n",
       "      <td>Sales</td>\n",
       "      <td>6</td>\n",
       "      <td>2</td>\n",
       "      <td>Life Sciences</td>\n",
       "      <td>1</td>\n",
       "      <td>1</td>\n",
       "      <td>Female</td>\n",
       "      <td>...</td>\n",
       "      <td>1.0</td>\n",
       "      <td>Y</td>\n",
       "      <td>11</td>\n",
       "      <td>8</td>\n",
       "      <td>0</td>\n",
       "      <td>1.0</td>\n",
       "      <td>6</td>\n",
       "      <td>1</td>\n",
       "      <td>0</td>\n",
       "      <td>0</td>\n",
       "    </tr>\n",
       "    <tr>\n",
       "      <th>1</th>\n",
       "      <td>31</td>\n",
       "      <td>Yes</td>\n",
       "      <td>Travel_Frequently</td>\n",
       "      <td>Research &amp; Development</td>\n",
       "      <td>10</td>\n",
       "      <td>1</td>\n",
       "      <td>Life Sciences</td>\n",
       "      <td>1</td>\n",
       "      <td>2</td>\n",
       "      <td>Female</td>\n",
       "      <td>...</td>\n",
       "      <td>0.0</td>\n",
       "      <td>Y</td>\n",
       "      <td>23</td>\n",
       "      <td>8</td>\n",
       "      <td>1</td>\n",
       "      <td>6.0</td>\n",
       "      <td>3</td>\n",
       "      <td>5</td>\n",
       "      <td>1</td>\n",
       "      <td>4</td>\n",
       "    </tr>\n",
       "    <tr>\n",
       "      <th>2</th>\n",
       "      <td>32</td>\n",
       "      <td>No</td>\n",
       "      <td>Travel_Frequently</td>\n",
       "      <td>Research &amp; Development</td>\n",
       "      <td>17</td>\n",
       "      <td>4</td>\n",
       "      <td>Other</td>\n",
       "      <td>1</td>\n",
       "      <td>3</td>\n",
       "      <td>Male</td>\n",
       "      <td>...</td>\n",
       "      <td>1.0</td>\n",
       "      <td>Y</td>\n",
       "      <td>15</td>\n",
       "      <td>8</td>\n",
       "      <td>3</td>\n",
       "      <td>5.0</td>\n",
       "      <td>2</td>\n",
       "      <td>5</td>\n",
       "      <td>0</td>\n",
       "      <td>3</td>\n",
       "    </tr>\n",
       "    <tr>\n",
       "      <th>3</th>\n",
       "      <td>38</td>\n",
       "      <td>No</td>\n",
       "      <td>Non-Travel</td>\n",
       "      <td>Research &amp; Development</td>\n",
       "      <td>2</td>\n",
       "      <td>5</td>\n",
       "      <td>Life Sciences</td>\n",
       "      <td>1</td>\n",
       "      <td>4</td>\n",
       "      <td>Male</td>\n",
       "      <td>...</td>\n",
       "      <td>3.0</td>\n",
       "      <td>Y</td>\n",
       "      <td>11</td>\n",
       "      <td>8</td>\n",
       "      <td>3</td>\n",
       "      <td>13.0</td>\n",
       "      <td>5</td>\n",
       "      <td>8</td>\n",
       "      <td>7</td>\n",
       "      <td>5</td>\n",
       "    </tr>\n",
       "    <tr>\n",
       "      <th>4</th>\n",
       "      <td>32</td>\n",
       "      <td>No</td>\n",
       "      <td>Travel_Rarely</td>\n",
       "      <td>Research &amp; Development</td>\n",
       "      <td>10</td>\n",
       "      <td>1</td>\n",
       "      <td>Medical</td>\n",
       "      <td>1</td>\n",
       "      <td>5</td>\n",
       "      <td>Male</td>\n",
       "      <td>...</td>\n",
       "      <td>4.0</td>\n",
       "      <td>Y</td>\n",
       "      <td>12</td>\n",
       "      <td>8</td>\n",
       "      <td>2</td>\n",
       "      <td>9.0</td>\n",
       "      <td>2</td>\n",
       "      <td>6</td>\n",
       "      <td>0</td>\n",
       "      <td>4</td>\n",
       "    </tr>\n",
       "  </tbody>\n",
       "</table>\n",
       "<p>5 rows × 24 columns</p>\n",
       "</div>"
      ],
      "text/plain": [
       "   Age Attrition     BusinessTravel              Department  DistanceFromHome  \\\n",
       "0   51        No      Travel_Rarely                   Sales                 6   \n",
       "1   31       Yes  Travel_Frequently  Research & Development                10   \n",
       "2   32        No  Travel_Frequently  Research & Development                17   \n",
       "3   38        No         Non-Travel  Research & Development                 2   \n",
       "4   32        No      Travel_Rarely  Research & Development                10   \n",
       "\n",
       "   Education EducationField  EmployeeCount  EmployeeID  Gender  ...  \\\n",
       "0          2  Life Sciences              1           1  Female  ...   \n",
       "1          1  Life Sciences              1           2  Female  ...   \n",
       "2          4          Other              1           3    Male  ...   \n",
       "3          5  Life Sciences              1           4    Male  ...   \n",
       "4          1        Medical              1           5    Male  ...   \n",
       "\n",
       "   NumCompaniesWorked Over18 PercentSalaryHike  StandardHours  \\\n",
       "0                 1.0      Y                11              8   \n",
       "1                 0.0      Y                23              8   \n",
       "2                 1.0      Y                15              8   \n",
       "3                 3.0      Y                11              8   \n",
       "4                 4.0      Y                12              8   \n",
       "\n",
       "   StockOptionLevel TotalWorkingYears  TrainingTimesLastYear  YearsAtCompany  \\\n",
       "0                 0               1.0                      6               1   \n",
       "1                 1               6.0                      3               5   \n",
       "2                 3               5.0                      2               5   \n",
       "3                 3              13.0                      5               8   \n",
       "4                 2               9.0                      2               6   \n",
       "\n",
       "   YearsSinceLastPromotion  YearsWithCurrManager  \n",
       "0                        0                     0  \n",
       "1                        1                     4  \n",
       "2                        0                     3  \n",
       "3                        7                     5  \n",
       "4                        0                     4  \n",
       "\n",
       "[5 rows x 24 columns]"
      ]
     },
     "execution_count": 2,
     "metadata": {},
     "output_type": "execute_result"
    }
   ],
   "source": [
    "df=pd.read_csv('HR_attrition_dataset.csv')\n",
    "df.head()"
   ]
  },
  {
   "cell_type": "code",
   "execution_count": 3,
   "id": "c89b0232",
   "metadata": {},
   "outputs": [
    {
     "data": {
      "text/plain": [
       "Index(['Age', 'Attrition', 'BusinessTravel', 'Department', 'DistanceFromHome',\n",
       "       'Education', 'EducationField', 'EmployeeCount', 'EmployeeID', 'Gender',\n",
       "       'JobLevel', 'JobRole', 'MaritalStatus', 'MonthlyIncome',\n",
       "       'NumCompaniesWorked', 'Over18', 'PercentSalaryHike', 'StandardHours',\n",
       "       'StockOptionLevel', 'TotalWorkingYears', 'TrainingTimesLastYear',\n",
       "       'YearsAtCompany', 'YearsSinceLastPromotion', 'YearsWithCurrManager'],\n",
       "      dtype='object')"
      ]
     },
     "execution_count": 3,
     "metadata": {},
     "output_type": "execute_result"
    }
   ],
   "source": [
    "df.columns"
   ]
  },
  {
   "cell_type": "code",
   "execution_count": 4,
   "id": "cf570e87",
   "metadata": {},
   "outputs": [],
   "source": [
    "df.drop(['EmployeeCount', 'EmployeeID','Over18','StandardHours'],axis=1,inplace=True)"
   ]
  },
  {
   "cell_type": "code",
   "execution_count": 5,
   "id": "e10c52ce",
   "metadata": {},
   "outputs": [
    {
     "data": {
      "text/plain": [
       "Age                         0\n",
       "Attrition                   0\n",
       "BusinessTravel              0\n",
       "Department                  0\n",
       "DistanceFromHome            0\n",
       "Education                   0\n",
       "EducationField              0\n",
       "Gender                      0\n",
       "JobLevel                    0\n",
       "JobRole                     0\n",
       "MaritalStatus               0\n",
       "MonthlyIncome               0\n",
       "NumCompaniesWorked         19\n",
       "PercentSalaryHike           0\n",
       "StockOptionLevel            0\n",
       "TotalWorkingYears           9\n",
       "TrainingTimesLastYear       0\n",
       "YearsAtCompany              0\n",
       "YearsSinceLastPromotion     0\n",
       "YearsWithCurrManager        0\n",
       "dtype: int64"
      ]
     },
     "execution_count": 5,
     "metadata": {},
     "output_type": "execute_result"
    }
   ],
   "source": [
    "df.isnull().sum()"
   ]
  },
  {
   "cell_type": "code",
   "execution_count": 6,
   "id": "0b578b2e",
   "metadata": {},
   "outputs": [],
   "source": [
    "df.fillna({'NumCompaniesWorked':df['NumCompaniesWorked'].mode()[0],'TotalWorkingYears':df['TotalWorkingYears'].mode()[0]},inplace=True)"
   ]
  },
  {
   "cell_type": "code",
   "execution_count": 7,
   "id": "c377a2b7",
   "metadata": {},
   "outputs": [
    {
     "name": "stdout",
     "output_type": "stream",
     "text": [
      "Age  : 43\n",
      "Attrition  : 2\n",
      "BusinessTravel  : 3\n",
      "Department  : 3\n",
      "DistanceFromHome  : 29\n",
      "Education  : 5\n",
      "EducationField  : 6\n",
      "Gender  : 2\n",
      "JobLevel  : 5\n",
      "JobRole  : 9\n",
      "MaritalStatus  : 3\n",
      "MonthlyIncome  : 1349\n",
      "NumCompaniesWorked  : 10\n",
      "PercentSalaryHike  : 15\n",
      "StockOptionLevel  : 4\n",
      "TotalWorkingYears  : 40\n",
      "TrainingTimesLastYear  : 7\n",
      "YearsAtCompany  : 37\n",
      "YearsSinceLastPromotion  : 16\n",
      "YearsWithCurrManager  : 18\n",
      "Age  : [51 31 32 38 46 28 29 25 45 36 55 47 37 21 35 26 50 53 42 44 49 18 41 39\n",
      " 58 33 43 52 27 30 54 40 23 48 57 34 24 22 56 60 19 20 59]\n",
      "BusinessTravel  : ['Travel_Rarely' 'Travel_Frequently' 'Non-Travel']\n",
      "Department  : ['Sales' 'Research & Development' 'Human Resources']\n",
      "DistanceFromHome  : [ 6 10 17  2  8 11 18  1  7 28 14  3  4 16  9  5 20 29 15 13 24 19 22 25\n",
      " 21 26 27 12 23]\n",
      "EducationField  : ['Life Sciences' 'Other' 'Medical' 'Marketing' 'Technical Degree'\n",
      " 'Human Resources']\n",
      "JobRole  : ['Healthcare Representative' 'Research Scientist' 'Sales Executive'\n",
      " 'Human Resources' 'Research Director' 'Laboratory Technician'\n",
      " 'Manufacturing Director' 'Sales Representative' 'Manager']\n",
      "MaritalStatus  : ['Married' 'Single' 'Divorced']\n",
      "MonthlyIncome  : [131160  41890 193280 ...  37020  23980  54680]\n",
      "NumCompaniesWorked  : [1. 0. 3. 4. 2. 7. 9. 5. 6. 8.]\n",
      "PercentSalaryHike  : [11 23 15 12 13 20 22 21 17 14 16 18 19 24 25]\n",
      "TotalWorkingYears  : [ 1.  6.  5. 13.  9. 28. 10. 21. 16. 37.  7.  3. 15.  8. 12. 17. 19. 22.\n",
      "  2.  4. 23.  0. 11. 24. 25. 20. 14. 26. 18. 30. 36. 31. 33. 32. 34. 40.\n",
      " 29. 35. 27. 38.]\n",
      "TrainingTimesLastYear  : [6 3 2 5 4 0 1]\n",
      "YearsAtCompany  : [ 1  5  8  6  7  0  9 20 15 36 10  3 17  2  4 11 22 18 13 24 21 16 25 29\n",
      " 27 14 31 32 34 26 12 19 33 30 23 37 40]\n",
      "YearsSinceLastPromotion  : [ 0  1  7  4 10  9  6 11  3  5  2  8 13 12 15 14]\n",
      "YearsWithCurrManager  : [ 0  4  3  5  7  8 10 11 13  9  1  2  6 12 17 16 15 14]\n"
     ]
    }
   ],
   "source": [
    "# finding the number of unique values associated with each column\n",
    "for i in df.columns:\n",
    "    print(i,\" :\",df[i].nunique())\n",
    "ll=['Age', 'BusinessTravel', 'Department', 'DistanceFromHome',\n",
    "       'EducationField', \n",
    "        'JobRole', 'MaritalStatus', 'MonthlyIncome',\n",
    "       'NumCompaniesWorked', 'PercentSalaryHike', \n",
    "        'TotalWorkingYears', 'TrainingTimesLastYear',\n",
    "       'YearsAtCompany', 'YearsSinceLastPromotion', 'YearsWithCurrManager']\n",
    "for i in ll:\n",
    "    print(i,\" :\",df[i].unique())"
   ]
  },
  {
   "cell_type": "code",
   "execution_count": 8,
   "id": "7cc822f6",
   "metadata": {},
   "outputs": [],
   "source": [
    "outlier_lst=['NumCompaniesWorked','YearsSinceLastPromotion','TotalWorkingYears','YearsAtCompany']\n",
    "# Handling outliers by interquartile rule based capping\n",
    "for i in outlier_lst:\n",
    "    Q1 = df[i].quantile(0.25)\n",
    "    Q3 = df[i].quantile(0.75)\n",
    "    IQR = Q3 - Q1\n",
    "    u_lim=(Q3+1.5*IQR)\n",
    "    df[i].where(df[i] <=u_lim,u_lim, inplace=True)  #replacing all upper outliers with upper-limit\n",
    "    df[i]=df[i].astype('int')"
   ]
  },
  {
   "cell_type": "code",
   "execution_count": 9,
   "id": "79cfe192",
   "metadata": {},
   "outputs": [],
   "source": [
    "df1=df.copy()"
   ]
  },
  {
   "cell_type": "code",
   "execution_count": 10,
   "id": "e8ba1fa1",
   "metadata": {},
   "outputs": [
    {
     "name": "stdout",
     "output_type": "stream",
     "text": [
      "Age  : 43\n",
      "Attrition  : 2\n",
      "BusinessTravel  : 3\n",
      "Department  : 3\n",
      "DistanceFromHome  : 29\n",
      "Education  : 5\n",
      "EducationField  : 6\n",
      "Gender  : 2\n",
      "JobLevel  : 5\n",
      "JobRole  : 9\n",
      "MaritalStatus  : 3\n",
      "MonthlyIncome  : 1349\n",
      "NumCompaniesWorked  : 9\n",
      "PercentSalaryHike  : 15\n",
      "StockOptionLevel  : 4\n",
      "TotalWorkingYears  : 29\n",
      "TrainingTimesLastYear  : 7\n",
      "YearsAtCompany  : 19\n",
      "YearsSinceLastPromotion  : 8\n",
      "YearsWithCurrManager  : 18\n",
      "Age  : [51 31 32 38 46 28 29 25 45 36 55 47 37 21 35 26 50 53 42 44 49 18 41 39\n",
      " 58 33 43 52 27 30 54 40 23 48 57 34 24 22 56 60 19 20 59]\n",
      "BusinessTravel  : ['Travel_Rarely' 'Travel_Frequently' 'Non-Travel']\n",
      "Department  : ['Sales' 'Research & Development' 'Human Resources']\n",
      "DistanceFromHome  : [ 6 10 17  2  8 11 18  1  7 28 14  3  4 16  9  5 20 29 15 13 24 19 22 25\n",
      " 21 26 27 12 23]\n",
      "EducationField  : ['Life Sciences' 'Other' 'Medical' 'Marketing' 'Technical Degree'\n",
      " 'Human Resources']\n",
      "JobRole  : ['Healthcare Representative' 'Research Scientist' 'Sales Executive'\n",
      " 'Human Resources' 'Research Director' 'Laboratory Technician'\n",
      " 'Manufacturing Director' 'Sales Representative' 'Manager']\n",
      "MaritalStatus  : ['Married' 'Single' 'Divorced']\n",
      "MonthlyIncome  : [131160  41890 193280 ...  37020  23980  54680]\n",
      "NumCompaniesWorked  : [1 0 3 4 2 7 8 5 6]\n",
      "PercentSalaryHike  : [11 23 15 12 13 20 22 21 17 14 16 18 19 24 25]\n",
      "TotalWorkingYears  : [ 1  6  5 13  9 28 10 21 16  7  3 15  8 12 17 19 22  2  4 23  0 11 24 25\n",
      " 20 14 26 18 27]\n",
      "TrainingTimesLastYear  : [6 3 2 5 4 0 1]\n",
      "YearsAtCompany  : [ 1  5  8  6  7  0  9 18 15 10  3 17  2  4 11 13 16 14 12]\n",
      "YearsSinceLastPromotion  : [0 1 7 4 6 3 5 2]\n",
      "YearsWithCurrManager  : [ 0  4  3  5  7  8 10 11 13  9  1  2  6 12 17 16 15 14]\n"
     ]
    }
   ],
   "source": [
    "# finding the number of unique values associated with each column\n",
    "for i in df1.columns:\n",
    "    print(i,\" :\",df1[i].nunique())\n",
    "ll=['Age', 'BusinessTravel', 'Department', 'DistanceFromHome',\n",
    "       'EducationField', \n",
    "        'JobRole', 'MaritalStatus', 'MonthlyIncome',\n",
    "       'NumCompaniesWorked', 'PercentSalaryHike', \n",
    "        'TotalWorkingYears', 'TrainingTimesLastYear',\n",
    "       'YearsAtCompany', 'YearsSinceLastPromotion', 'YearsWithCurrManager']\n",
    "for i in ll:\n",
    "    print(i,\" :\",df1[i].unique())"
   ]
  },
  {
   "cell_type": "code",
   "execution_count": 11,
   "id": "6df77c5e",
   "metadata": {},
   "outputs": [
    {
     "data": {
      "text/plain": [
       "0    3699\n",
       "1     711\n",
       "Name: Attrition, dtype: int64"
      ]
     },
     "execution_count": 11,
     "metadata": {},
     "output_type": "execute_result"
    }
   ],
   "source": [
    "df['Attrition']=df['Attrition'].map({'Yes': 1, 'No': 0})\n",
    "df['Attrition'].value_counts()"
   ]
  },
  {
   "cell_type": "code",
   "execution_count": 12,
   "id": "a154f68e",
   "metadata": {},
   "outputs": [
    {
     "data": {
      "text/plain": [
       "1    1818\n",
       "2    1404\n",
       "3     678\n",
       "0     369\n",
       "4     141\n",
       "Name: Age, dtype: int64"
      ]
     },
     "execution_count": 12,
     "metadata": {},
     "output_type": "execute_result"
    }
   ],
   "source": [
    "df['Age']=pd.cut(df['Age'],bins=[17,25,35,45,55,64],labels=[0,1,2,3,4])\n",
    "df['Age'] = df['Age'].astype('int')\n",
    "df['Age'].value_counts()"
   ]
  },
  {
   "cell_type": "code",
   "execution_count": 13,
   "id": "2daa537b",
   "metadata": {},
   "outputs": [
    {
     "data": {
      "text/plain": [
       "1    1569\n",
       "2     930\n",
       "0     678\n",
       "3     390\n",
       "4     273\n",
       "7     243\n",
       "5     171\n",
       "6     156\n",
       "Name: MonthlyIncome, dtype: int64"
      ]
     },
     "execution_count": 13,
     "metadata": {},
     "output_type": "execute_result"
    }
   ],
   "source": [
    "#Function to categorise income into slabs\n",
    "def categorise_income(row):  \n",
    "    if row['MonthlyIncome'] > 10000 and row['MonthlyIncome'] <= 25000:\n",
    "        return 0\n",
    "    elif row['MonthlyIncome'] > 25001 and row['MonthlyIncome'] <= 50000:\n",
    "        return 1\n",
    "    elif row['MonthlyIncome'] > 50001 and row['MonthlyIncome'] <= 75000:\n",
    "        return 2\n",
    "    elif row['MonthlyIncome'] > 75001 and row['MonthlyIncome'] <= 100000:\n",
    "        return 3\n",
    "    elif row['MonthlyIncome'] > 100001 and row['MonthlyIncome'] <= 125000:\n",
    "        return 4\n",
    "    elif row['MonthlyIncome'] > 125001 and row['MonthlyIncome'] <= 150000:\n",
    "        return 5\n",
    "    elif row['MonthlyIncome'] > 150001 and row['MonthlyIncome'] <= 175000:\n",
    "        return 6\n",
    "    elif row['MonthlyIncome'] > 10000 and row['MonthlyIncome'] <= 200000:\n",
    "        return 7\n",
    "df['MonthlyIncome'] = df.apply(lambda row: categorise_income(row), axis=1)\n",
    "df['MonthlyIncome'] = df['MonthlyIncome'].astype('int')\n",
    "df['MonthlyIncome'].value_counts()"
   ]
  },
  {
   "cell_type": "code",
   "execution_count": 14,
   "id": "2802b68b",
   "metadata": {},
   "outputs": [
    {
     "data": {
      "text/plain": [
       "1    3129\n",
       "2     831\n",
       "0     450\n",
       "Name: BusinessTravel, dtype: int64"
      ]
     },
     "execution_count": 14,
     "metadata": {},
     "output_type": "execute_result"
    }
   ],
   "source": [
    "df['BusinessTravel']=df['BusinessTravel'].map({'Travel_Frequently': 2,'Travel_Rarely': 1, 'Non-Travel': 0})\n",
    "df['BusinessTravel'].value_counts()"
   ]
  },
  {
   "cell_type": "code",
   "execution_count": 15,
   "id": "511cf330",
   "metadata": {},
   "outputs": [],
   "source": [
    "df['Gender']=np.where(df['Gender']==\"Male\",1,0)"
   ]
  },
  {
   "cell_type": "code",
   "execution_count": 16,
   "id": "c0ac37b5",
   "metadata": {},
   "outputs": [
    {
     "name": "stdout",
     "output_type": "stream",
     "text": [
      "Department {'Sales': 0, 'Research & Development': 1, 'Human Resources': 2}\n",
      "EducationField {'Life Sciences': 0, 'Other': 1, 'Medical': 2, 'Marketing': 3, 'Technical Degree': 4, 'Human Resources': 5}\n",
      "JobRole {'Healthcare Representative': 0, 'Research Scientist': 1, 'Sales Executive': 2, 'Human Resources': 3, 'Research Director': 4, 'Laboratory Technician': 5, 'Manufacturing Director': 6, 'Sales Representative': 7, 'Manager': 8}\n",
      "MaritalStatus {'Married': 0, 'Single': 1, 'Divorced': 2}\n"
     ]
    }
   ],
   "source": [
    "to_encode_list=['Department','EducationField','JobRole', 'MaritalStatus']\n",
    "for l in to_encode_list:\n",
    "    ordinal_label = {k: i for i, k in enumerate(df[l].unique(), 0)}\n",
    "    print(l, ordinal_label)\n",
    "    df[l] = df[l].map(ordinal_label)"
   ]
  },
  {
   "cell_type": "code",
   "execution_count": 17,
   "id": "3f146148",
   "metadata": {},
   "outputs": [
    {
     "data": {
      "text/plain": [
       "Age                        int32\n",
       "Attrition                  int64\n",
       "BusinessTravel             int64\n",
       "Department                 int64\n",
       "DistanceFromHome           int64\n",
       "Education                  int64\n",
       "EducationField             int64\n",
       "Gender                     int32\n",
       "JobLevel                   int64\n",
       "JobRole                    int64\n",
       "MaritalStatus              int64\n",
       "MonthlyIncome              int32\n",
       "NumCompaniesWorked         int32\n",
       "PercentSalaryHike          int64\n",
       "StockOptionLevel           int64\n",
       "TotalWorkingYears          int32\n",
       "TrainingTimesLastYear      int64\n",
       "YearsAtCompany             int32\n",
       "YearsSinceLastPromotion    int32\n",
       "YearsWithCurrManager       int64\n",
       "dtype: object"
      ]
     },
     "execution_count": 17,
     "metadata": {},
     "output_type": "execute_result"
    }
   ],
   "source": [
    "df.dtypes"
   ]
  },
  {
   "cell_type": "code",
   "execution_count": 18,
   "id": "5d6bb8e0",
   "metadata": {},
   "outputs": [
    {
     "data": {
      "text/plain": [
       "Index(['Age', 'BusinessTravel', 'Department', 'DistanceFromHome', 'Education',\n",
       "       'EducationField', 'Gender', 'JobLevel', 'JobRole', 'MaritalStatus',\n",
       "       'MonthlyIncome', 'NumCompaniesWorked', 'PercentSalaryHike',\n",
       "       'StockOptionLevel', 'TotalWorkingYears', 'TrainingTimesLastYear',\n",
       "       'YearsAtCompany', 'YearsSinceLastPromotion', 'YearsWithCurrManager'],\n",
       "      dtype='object')"
      ]
     },
     "execution_count": 18,
     "metadata": {},
     "output_type": "execute_result"
    }
   ],
   "source": [
    "X=df.drop(['Attrition'],axis=1)\n",
    "X.columns"
   ]
  },
  {
   "cell_type": "code",
   "execution_count": 19,
   "id": "9d472667",
   "metadata": {},
   "outputs": [
    {
     "data": {
      "text/plain": [
       "0       0\n",
       "1       1\n",
       "2       0\n",
       "3       0\n",
       "4       0\n",
       "       ..\n",
       "4405    0\n",
       "4406    0\n",
       "4407    0\n",
       "4408    0\n",
       "4409    0\n",
       "Name: Attrition, Length: 4410, dtype: int64"
      ]
     },
     "execution_count": 19,
     "metadata": {},
     "output_type": "execute_result"
    }
   ],
   "source": [
    "y=df['Attrition']\n",
    "y"
   ]
  },
  {
   "cell_type": "code",
   "execution_count": 20,
   "id": "2269eef2",
   "metadata": {},
   "outputs": [
    {
     "name": "stdout",
     "output_type": "stream",
     "text": [
      "0    1110\n",
      "1     213\n",
      "Name: Attrition, dtype: int64\n",
      "0    2589\n",
      "1     498\n",
      "Name: Attrition, dtype: int64\n"
     ]
    }
   ],
   "source": [
    "X_train,X_test,y_train,y_test=train_test_split(X,y,random_state=42,test_size=.3,stratify = y) # 30% data is for testing\n",
    "print(y_test.value_counts())\n",
    "print(y_train.value_counts())"
   ]
  },
  {
   "cell_type": "markdown",
   "id": "46896883",
   "metadata": {},
   "source": [
    "### Feature Selection"
   ]
  },
  {
   "cell_type": "markdown",
   "id": "feabeac1",
   "metadata": {},
   "source": [
    "#### 1) Mutual Info/ Info Gain"
   ]
  },
  {
   "cell_type": "code",
   "execution_count": 21,
   "id": "9b64346c",
   "metadata": {},
   "outputs": [
    {
     "data": {
      "text/plain": [
       "YearsWithCurrManager       0.034726\n",
       "YearsAtCompany             0.031827\n",
       "TotalWorkingYears          0.027809\n",
       "Age                        0.023980\n",
       "MaritalStatus              0.023587\n",
       "BusinessTravel             0.015916\n",
       "JobLevel                   0.006505\n",
       "NumCompaniesWorked         0.006239\n",
       "Education                  0.004440\n",
       "TrainingTimesLastYear      0.004315\n",
       "DistanceFromHome           0.004212\n",
       "StockOptionLevel           0.003452\n",
       "PercentSalaryHike          0.001514\n",
       "EducationField             0.000000\n",
       "Gender                     0.000000\n",
       "JobRole                    0.000000\n",
       "MonthlyIncome              0.000000\n",
       "Department                 0.000000\n",
       "YearsSinceLastPromotion    0.000000\n",
       "dtype: float64"
      ]
     },
     "execution_count": 21,
     "metadata": {},
     "output_type": "execute_result"
    }
   ],
   "source": [
    "mutual_info = mutual_info_classif(X_train, y_train)\n",
    "mutual_info = pd.Series(mutual_info)\n",
    "mutual_info.index = X_train.columns\n",
    "mutual_info.sort_values(ascending=False)"
   ]
  },
  {
   "cell_type": "markdown",
   "id": "47d8f8da",
   "metadata": {},
   "source": [
    "#### 2) Chi Square Test"
   ]
  },
  {
   "cell_type": "code",
   "execution_count": 22,
   "id": "5fa196d6",
   "metadata": {},
   "outputs": [
    {
     "data": {
      "text/plain": [
       "EducationField              8.658451e-01\n",
       "Education                   7.077503e-01\n",
       "DistanceFromHome            5.739088e-01\n",
       "JobLevel                    5.173200e-01\n",
       "Gender                      4.020615e-01\n",
       "StockOptionLevel            2.527098e-01\n",
       "MaritalStatus               2.523808e-01\n",
       "MonthlyIncome               2.224995e-01\n",
       "PercentSalaryHike           1.870233e-01\n",
       "TrainingTimesLastYear       1.168798e-01\n",
       "Department                  7.628477e-02\n",
       "JobRole                     1.137873e-02\n",
       "NumCompaniesWorked          9.970815e-03\n",
       "BusinessTravel              9.711806e-04\n",
       "YearsSinceLastPromotion     5.107923e-06\n",
       "Age                         1.562463e-11\n",
       "YearsWithCurrManager        1.671102e-57\n",
       "YearsAtCompany              7.879549e-78\n",
       "TotalWorkingYears          9.992534e-113\n",
       "dtype: float64"
      ]
     },
     "execution_count": 22,
     "metadata": {},
     "output_type": "execute_result"
    }
   ],
   "source": [
    "f_p_values=chi2(X_train,y_train)# this will have 2 arrays with f-value and p-value\n",
    "p_values=pd.Series(f_p_values[1])#choosing only p value array\n",
    "f_values=pd.Series(f_p_values[0])\n",
    "p_values.index=X_train.columns\n",
    "p_values.sort_values(ascending=False)"
   ]
  },
  {
   "cell_type": "code",
   "execution_count": 23,
   "id": "5d68dec1",
   "metadata": {},
   "outputs": [
    {
     "data": {
      "text/plain": [
       "TotalWorkingYears          509.092433\n",
       "YearsAtCompany             348.763064\n",
       "YearsWithCurrManager       255.465312\n",
       "Age                         45.454248\n",
       "YearsSinceLastPromotion     20.796387\n",
       "BusinessTravel              10.881719\n",
       "NumCompaniesWorked           6.640103\n",
       "JobRole                      6.405190\n",
       "Department                   3.142330\n",
       "TrainingTimesLastYear        2.458642\n",
       "PercentSalaryHike            1.740912\n",
       "MonthlyIncome                1.488177\n",
       "MaritalStatus                1.310076\n",
       "StockOptionLevel             1.308261\n",
       "Gender                       0.702152\n",
       "JobLevel                     0.419233\n",
       "DistanceFromHome             0.316186\n",
       "Education                    0.140534\n",
       "EducationField               0.028540\n",
       "dtype: float64"
      ]
     },
     "execution_count": 23,
     "metadata": {},
     "output_type": "execute_result"
    }
   ],
   "source": [
    "f_values.index=X_train.columns\n",
    "f_values.sort_values(ascending=False)"
   ]
  },
  {
   "cell_type": "markdown",
   "id": "474bbe16",
   "metadata": {},
   "source": [
    "#### 3) ExtraTreeClassifier"
   ]
  },
  {
   "cell_type": "code",
   "execution_count": 24,
   "id": "88b36556",
   "metadata": {},
   "outputs": [
    {
     "data": {
      "text/plain": [
       "TotalWorkingYears          0.073848\n",
       "YearsAtCompany             0.069320\n",
       "Age                        0.062020\n",
       "YearsWithCurrManager       0.060828\n",
       "PercentSalaryHike          0.059413\n",
       "DistanceFromHome           0.057874\n",
       "MonthlyIncome              0.056114\n",
       "JobRole                    0.055828\n",
       "TrainingTimesLastYear      0.054482\n",
       "NumCompaniesWorked         0.053356\n",
       "EducationField             0.050368\n",
       "JobLevel                   0.048170\n",
       "Education                  0.047863\n",
       "MaritalStatus              0.047541\n",
       "YearsSinceLastPromotion    0.047306\n",
       "StockOptionLevel           0.047271\n",
       "BusinessTravel             0.040800\n",
       "Department                 0.036384\n",
       "Gender                     0.031213\n",
       "dtype: float64"
      ]
     },
     "execution_count": 24,
     "metadata": {},
     "output_type": "execute_result"
    }
   ],
   "source": [
    "etc=ExtraTreesClassifier()\n",
    "etc.fit(X_train,y_train)\n",
    "ranked_features=pd.Series(etc.feature_importances_,index=X_train.columns)\n",
    "ranked_features.sort_values(ascending=False)"
   ]
  },
  {
   "cell_type": "markdown",
   "id": "1c88a2f9",
   "metadata": {},
   "source": [
    "#### Overall features that can be eliminated are\n",
    "Gender,\n",
    "StockOptionLevel,\n",
    "JobLevel,\n",
    "Education"
   ]
  },
  {
   "cell_type": "code",
   "execution_count": 25,
   "id": "2a87b93c",
   "metadata": {},
   "outputs": [
    {
     "data": {
      "text/plain": [
       "Index(['Age', 'Attrition', 'BusinessTravel', 'Department', 'DistanceFromHome',\n",
       "       'Education', 'EducationField', 'Gender', 'JobLevel', 'JobRole',\n",
       "       'MaritalStatus', 'MonthlyIncome', 'NumCompaniesWorked',\n",
       "       'PercentSalaryHike', 'StockOptionLevel', 'TotalWorkingYears',\n",
       "       'TrainingTimesLastYear', 'YearsAtCompany', 'YearsSinceLastPromotion',\n",
       "       'YearsWithCurrManager'],\n",
       "      dtype='object')"
      ]
     },
     "execution_count": 25,
     "metadata": {},
     "output_type": "execute_result"
    }
   ],
   "source": [
    "df=df1.copy()\n",
    "df.columns"
   ]
  },
  {
   "cell_type": "code",
   "execution_count": 26,
   "id": "bfbe8515",
   "metadata": {},
   "outputs": [],
   "source": [
    "df.drop(columns=['Education',  'Gender', 'JobLevel', 'StockOptionLevel'],inplace=True)"
   ]
  },
  {
   "cell_type": "markdown",
   "id": "e491a198",
   "metadata": {},
   "source": [
    "### Feature Engineering"
   ]
  },
  {
   "cell_type": "code",
   "execution_count": 27,
   "id": "3eb7bee1",
   "metadata": {},
   "outputs": [
    {
     "data": {
      "text/plain": [
       "26-35         1818\n",
       "36-45         1404\n",
       "46-55          678\n",
       "25 & Below     369\n",
       "56 & Above     141\n",
       "Name: Age, dtype: int64"
      ]
     },
     "execution_count": 27,
     "metadata": {},
     "output_type": "execute_result"
    }
   ],
   "source": [
    "df['Age']=pd.cut(df['Age'],bins=[17,25,35,45,55,64],labels=['25 & Below','26-35','36-45','46-55','56 & Above'])\n",
    "df['Age'] = df['Age'].astype('object')\n",
    "df['Age'].value_counts()"
   ]
  },
  {
   "cell_type": "code",
   "execution_count": 28,
   "id": "1b52221f",
   "metadata": {},
   "outputs": [
    {
     "data": {
      "text/plain": [
       "25k-50k       1569\n",
       "50k-75k        930\n",
       "10k-25k        678\n",
       "75k-1L         390\n",
       "1L-1.25L       273\n",
       "1.75L-2L       243\n",
       "1.25L-1.5L     171\n",
       "1.5L-1.75L     156\n",
       "Name: MonthlyIncome, dtype: int64"
      ]
     },
     "execution_count": 28,
     "metadata": {},
     "output_type": "execute_result"
    }
   ],
   "source": [
    "#Function to categorise income into slabs\n",
    "def categorise_income(row):  \n",
    "    if row['MonthlyIncome'] > 10000 and row['MonthlyIncome'] <= 25000:\n",
    "        return '10k-25k'\n",
    "    elif row['MonthlyIncome'] > 25001 and row['MonthlyIncome'] <= 50000:\n",
    "        return '25k-50k'\n",
    "    elif row['MonthlyIncome'] > 50001 and row['MonthlyIncome'] <= 75000:\n",
    "        return '50k-75k'\n",
    "    elif row['MonthlyIncome'] > 75001 and row['MonthlyIncome'] <= 100000:\n",
    "        return '75k-1L'\n",
    "    elif row['MonthlyIncome'] > 100001 and row['MonthlyIncome'] <= 125000:\n",
    "        return '1L-1.25L'\n",
    "    elif row['MonthlyIncome'] > 125001 and row['MonthlyIncome'] <= 150000:\n",
    "        return '1.25L-1.5L'\n",
    "    elif row['MonthlyIncome'] > 150001 and row['MonthlyIncome'] <= 175000:\n",
    "        return '1.5L-1.75L'\n",
    "    elif row['MonthlyIncome'] > 10000 and row['MonthlyIncome'] <= 200000:\n",
    "        return '1.75L-2L'\n",
    "df['MonthlyIncome'] = df.apply(lambda row: categorise_income(row), axis=1)\n",
    "df['MonthlyIncome'].value_counts()"
   ]
  },
  {
   "cell_type": "code",
   "execution_count": 29,
   "id": "b428eaf2",
   "metadata": {},
   "outputs": [
    {
     "data": {
      "text/plain": [
       "Age                        object\n",
       "Attrition                  object\n",
       "BusinessTravel             object\n",
       "Department                 object\n",
       "DistanceFromHome            int64\n",
       "EducationField             object\n",
       "JobRole                    object\n",
       "MaritalStatus              object\n",
       "MonthlyIncome              object\n",
       "NumCompaniesWorked          int32\n",
       "PercentSalaryHike           int64\n",
       "TotalWorkingYears           int32\n",
       "TrainingTimesLastYear       int64\n",
       "YearsAtCompany              int32\n",
       "YearsSinceLastPromotion     int32\n",
       "YearsWithCurrManager        int64\n",
       "dtype: object"
      ]
     },
     "execution_count": 29,
     "metadata": {},
     "output_type": "execute_result"
    }
   ],
   "source": [
    "df.dtypes"
   ]
  },
  {
   "cell_type": "markdown",
   "id": "f31bf772",
   "metadata": {},
   "source": [
    "### Feature and target Encoding"
   ]
  },
  {
   "cell_type": "code",
   "execution_count": 30,
   "id": "91ca617e",
   "metadata": {},
   "outputs": [
    {
     "data": {
      "text/plain": [
       "0    3699\n",
       "1     711\n",
       "Name: Attrition, dtype: int64"
      ]
     },
     "execution_count": 30,
     "metadata": {},
     "output_type": "execute_result"
    }
   ],
   "source": [
    "# Encoding target variable\n",
    "df['Attrition']=df['Attrition'].map({'Yes': 1, 'No': 0})\n",
    "df['Attrition'].value_counts()"
   ]
  },
  {
   "cell_type": "code",
   "execution_count": 31,
   "id": "15973683",
   "metadata": {},
   "outputs": [
    {
     "data": {
      "text/plain": [
       "1    3129\n",
       "2     831\n",
       "0     450\n",
       "Name: BusinessTravel, dtype: int64"
      ]
     },
     "execution_count": 31,
     "metadata": {},
     "output_type": "execute_result"
    }
   ],
   "source": [
    "# Label encoding BusinessTravel feature\n",
    "df['BusinessTravel']=df['BusinessTravel'].map({'Travel_Frequently': 2,'Travel_Rarely': 1, 'Non-Travel': 0})\n",
    "df['BusinessTravel'].value_counts()"
   ]
  },
  {
   "cell_type": "code",
   "execution_count": 32,
   "id": "7067bcb8",
   "metadata": {},
   "outputs": [
    {
     "name": "stdout",
     "output_type": "stream",
     "text": [
      "0    1110\n",
      "1     213\n",
      "Name: Attrition, dtype: int64\n",
      "0    2589\n",
      "1     498\n",
      "Name: Attrition, dtype: int64\n"
     ]
    }
   ],
   "source": [
    "# Feature and Target separation for train test split\n",
    "from sklearn.model_selection import train_test_split\n",
    "X=df.drop(['Attrition'],axis=1)\n",
    "y=df['Attrition']\n",
    "X_train,X_test,y_train,y_test=train_test_split(X,y,random_state=42,test_size=.3,stratify = y) # 30% data is for testing\n",
    "print(y_test.value_counts())\n",
    "print(y_train.value_counts())"
   ]
  },
  {
   "cell_type": "code",
   "execution_count": 33,
   "id": "832095ff",
   "metadata": {},
   "outputs": [],
   "source": [
    "# One hot encoding remaining categorical features\n",
    "from sklearn.compose import make_column_transformer\n",
    "from sklearn.preprocessing import OneHotEncoder\n",
    "ohe = make_column_transformer(\n",
    "    (OneHotEncoder(drop='first'), ['Age','MonthlyIncome','Department','JobRole','MaritalStatus','EducationField']),\n",
    "    remainder='passthrough')\n",
    "ohencoded_X_train = ohe.fit_transform(X_train)\n",
    "X_train = pd.DataFrame(ohencoded_X_train, columns=ohe.get_feature_names_out())\n",
    "ohencoded_X_test=ohe.transform(X_test)\n",
    "X_test = pd.DataFrame(ohencoded_X_test, columns=ohe.get_feature_names_out())\n",
    "# print(X_train.head())\n",
    "# print(X_test.head())"
   ]
  },
  {
   "cell_type": "markdown",
   "id": "a254f38c",
   "metadata": {},
   "source": [
    "### Feature Scaling/ Standardisation"
   ]
  },
  {
   "cell_type": "code",
   "execution_count": 34,
   "id": "76588bae",
   "metadata": {},
   "outputs": [
    {
     "data": {
      "text/html": [
       "<div>\n",
       "<style scoped>\n",
       "    .dataframe tbody tr th:only-of-type {\n",
       "        vertical-align: middle;\n",
       "    }\n",
       "\n",
       "    .dataframe tbody tr th {\n",
       "        vertical-align: top;\n",
       "    }\n",
       "\n",
       "    .dataframe thead th {\n",
       "        text-align: right;\n",
       "    }\n",
       "</style>\n",
       "<table border=\"1\" class=\"dataframe\">\n",
       "  <thead>\n",
       "    <tr style=\"text-align: right;\">\n",
       "      <th></th>\n",
       "      <th>onehotencoder__Age_26-35</th>\n",
       "      <th>onehotencoder__Age_36-45</th>\n",
       "      <th>onehotencoder__Age_46-55</th>\n",
       "      <th>onehotencoder__Age_56 &amp; Above</th>\n",
       "      <th>onehotencoder__MonthlyIncome_1.5L-1.75L</th>\n",
       "      <th>onehotencoder__MonthlyIncome_1.75L-2L</th>\n",
       "      <th>onehotencoder__MonthlyIncome_10k-25k</th>\n",
       "      <th>onehotencoder__MonthlyIncome_1L-1.25L</th>\n",
       "      <th>onehotencoder__MonthlyIncome_25k-50k</th>\n",
       "      <th>onehotencoder__MonthlyIncome_50k-75k</th>\n",
       "      <th>...</th>\n",
       "      <th>onehotencoder__EducationField_Technical Degree</th>\n",
       "      <th>remainder__BusinessTravel</th>\n",
       "      <th>remainder__DistanceFromHome</th>\n",
       "      <th>remainder__NumCompaniesWorked</th>\n",
       "      <th>remainder__PercentSalaryHike</th>\n",
       "      <th>remainder__TotalWorkingYears</th>\n",
       "      <th>remainder__TrainingTimesLastYear</th>\n",
       "      <th>remainder__YearsAtCompany</th>\n",
       "      <th>remainder__YearsSinceLastPromotion</th>\n",
       "      <th>remainder__YearsWithCurrManager</th>\n",
       "    </tr>\n",
       "  </thead>\n",
       "  <tbody>\n",
       "    <tr>\n",
       "      <th>0</th>\n",
       "      <td>1.209017</td>\n",
       "      <td>-0.694773</td>\n",
       "      <td>-0.420057</td>\n",
       "      <td>-0.178189</td>\n",
       "      <td>-0.185789</td>\n",
       "      <td>-0.245145</td>\n",
       "      <td>-0.429621</td>\n",
       "      <td>-0.259668</td>\n",
       "      <td>1.341168</td>\n",
       "      <td>-0.509398</td>\n",
       "      <td>...</td>\n",
       "      <td>-0.318308</td>\n",
       "      <td>1.698474</td>\n",
       "      <td>0.089003</td>\n",
       "      <td>-0.688640</td>\n",
       "      <td>-0.345294</td>\n",
       "      <td>-0.423678</td>\n",
       "      <td>0.155813</td>\n",
       "      <td>0.293523</td>\n",
       "      <td>0.480121</td>\n",
       "      <td>-1.143162</td>\n",
       "    </tr>\n",
       "    <tr>\n",
       "      <th>1</th>\n",
       "      <td>-0.827118</td>\n",
       "      <td>1.439320</td>\n",
       "      <td>-0.420057</td>\n",
       "      <td>-0.178189</td>\n",
       "      <td>-0.185789</td>\n",
       "      <td>-0.245145</td>\n",
       "      <td>-0.429621</td>\n",
       "      <td>-0.259668</td>\n",
       "      <td>1.341168</td>\n",
       "      <td>-0.509398</td>\n",
       "      <td>...</td>\n",
       "      <td>-0.318308</td>\n",
       "      <td>-0.159495</td>\n",
       "      <td>2.048020</td>\n",
       "      <td>-1.103761</td>\n",
       "      <td>-0.345294</td>\n",
       "      <td>-0.285393</td>\n",
       "      <td>1.717490</td>\n",
       "      <td>0.293523</td>\n",
       "      <td>-0.360329</td>\n",
       "      <td>0.828628</td>\n",
       "    </tr>\n",
       "    <tr>\n",
       "      <th>2</th>\n",
       "      <td>-0.827118</td>\n",
       "      <td>1.439320</td>\n",
       "      <td>-0.420057</td>\n",
       "      <td>-0.178189</td>\n",
       "      <td>-0.185789</td>\n",
       "      <td>-0.245145</td>\n",
       "      <td>-0.429621</td>\n",
       "      <td>-0.259668</td>\n",
       "      <td>1.341168</td>\n",
       "      <td>-0.509398</td>\n",
       "      <td>...</td>\n",
       "      <td>3.141611</td>\n",
       "      <td>-0.159495</td>\n",
       "      <td>-1.012944</td>\n",
       "      <td>2.217204</td>\n",
       "      <td>0.466322</td>\n",
       "      <td>1.235734</td>\n",
       "      <td>0.155813</td>\n",
       "      <td>2.115044</td>\n",
       "      <td>-0.780554</td>\n",
       "      <td>3.082104</td>\n",
       "    </tr>\n",
       "    <tr>\n",
       "      <th>3</th>\n",
       "      <td>1.209017</td>\n",
       "      <td>-0.694773</td>\n",
       "      <td>-0.420057</td>\n",
       "      <td>-0.178189</td>\n",
       "      <td>-0.185789</td>\n",
       "      <td>-0.245145</td>\n",
       "      <td>-0.429621</td>\n",
       "      <td>-0.259668</td>\n",
       "      <td>1.341168</td>\n",
       "      <td>-0.509398</td>\n",
       "      <td>...</td>\n",
       "      <td>-0.318308</td>\n",
       "      <td>-0.159495</td>\n",
       "      <td>-0.033436</td>\n",
       "      <td>-1.103761</td>\n",
       "      <td>0.736860</td>\n",
       "      <td>-0.147109</td>\n",
       "      <td>-0.625025</td>\n",
       "      <td>0.495914</td>\n",
       "      <td>1.740795</td>\n",
       "      <td>0.828628</td>\n",
       "    </tr>\n",
       "    <tr>\n",
       "      <th>4</th>\n",
       "      <td>1.209017</td>\n",
       "      <td>-0.694773</td>\n",
       "      <td>-0.420057</td>\n",
       "      <td>-0.178189</td>\n",
       "      <td>-0.185789</td>\n",
       "      <td>-0.245145</td>\n",
       "      <td>-0.429621</td>\n",
       "      <td>-0.259668</td>\n",
       "      <td>-0.745619</td>\n",
       "      <td>-0.509398</td>\n",
       "      <td>...</td>\n",
       "      <td>-0.318308</td>\n",
       "      <td>-0.159495</td>\n",
       "      <td>0.456319</td>\n",
       "      <td>-0.273520</td>\n",
       "      <td>0.195783</td>\n",
       "      <td>-0.700246</td>\n",
       "      <td>-0.625025</td>\n",
       "      <td>-0.516042</td>\n",
       "      <td>-0.360329</td>\n",
       "      <td>-0.579794</td>\n",
       "    </tr>\n",
       "  </tbody>\n",
       "</table>\n",
       "<p>5 rows × 37 columns</p>\n",
       "</div>"
      ],
      "text/plain": [
       "   onehotencoder__Age_26-35  onehotencoder__Age_36-45  \\\n",
       "0                  1.209017                 -0.694773   \n",
       "1                 -0.827118                  1.439320   \n",
       "2                 -0.827118                  1.439320   \n",
       "3                  1.209017                 -0.694773   \n",
       "4                  1.209017                 -0.694773   \n",
       "\n",
       "   onehotencoder__Age_46-55  onehotencoder__Age_56 & Above  \\\n",
       "0                 -0.420057                      -0.178189   \n",
       "1                 -0.420057                      -0.178189   \n",
       "2                 -0.420057                      -0.178189   \n",
       "3                 -0.420057                      -0.178189   \n",
       "4                 -0.420057                      -0.178189   \n",
       "\n",
       "   onehotencoder__MonthlyIncome_1.5L-1.75L  \\\n",
       "0                                -0.185789   \n",
       "1                                -0.185789   \n",
       "2                                -0.185789   \n",
       "3                                -0.185789   \n",
       "4                                -0.185789   \n",
       "\n",
       "   onehotencoder__MonthlyIncome_1.75L-2L  \\\n",
       "0                              -0.245145   \n",
       "1                              -0.245145   \n",
       "2                              -0.245145   \n",
       "3                              -0.245145   \n",
       "4                              -0.245145   \n",
       "\n",
       "   onehotencoder__MonthlyIncome_10k-25k  \\\n",
       "0                             -0.429621   \n",
       "1                             -0.429621   \n",
       "2                             -0.429621   \n",
       "3                             -0.429621   \n",
       "4                             -0.429621   \n",
       "\n",
       "   onehotencoder__MonthlyIncome_1L-1.25L  \\\n",
       "0                              -0.259668   \n",
       "1                              -0.259668   \n",
       "2                              -0.259668   \n",
       "3                              -0.259668   \n",
       "4                              -0.259668   \n",
       "\n",
       "   onehotencoder__MonthlyIncome_25k-50k  onehotencoder__MonthlyIncome_50k-75k  \\\n",
       "0                              1.341168                             -0.509398   \n",
       "1                              1.341168                             -0.509398   \n",
       "2                              1.341168                             -0.509398   \n",
       "3                              1.341168                             -0.509398   \n",
       "4                             -0.745619                             -0.509398   \n",
       "\n",
       "   ...  onehotencoder__EducationField_Technical Degree  \\\n",
       "0  ...                                       -0.318308   \n",
       "1  ...                                       -0.318308   \n",
       "2  ...                                        3.141611   \n",
       "3  ...                                       -0.318308   \n",
       "4  ...                                       -0.318308   \n",
       "\n",
       "   remainder__BusinessTravel  remainder__DistanceFromHome  \\\n",
       "0                   1.698474                     0.089003   \n",
       "1                  -0.159495                     2.048020   \n",
       "2                  -0.159495                    -1.012944   \n",
       "3                  -0.159495                    -0.033436   \n",
       "4                  -0.159495                     0.456319   \n",
       "\n",
       "   remainder__NumCompaniesWorked  remainder__PercentSalaryHike  \\\n",
       "0                      -0.688640                     -0.345294   \n",
       "1                      -1.103761                     -0.345294   \n",
       "2                       2.217204                      0.466322   \n",
       "3                      -1.103761                      0.736860   \n",
       "4                      -0.273520                      0.195783   \n",
       "\n",
       "   remainder__TotalWorkingYears  remainder__TrainingTimesLastYear  \\\n",
       "0                     -0.423678                          0.155813   \n",
       "1                     -0.285393                          1.717490   \n",
       "2                      1.235734                          0.155813   \n",
       "3                     -0.147109                         -0.625025   \n",
       "4                     -0.700246                         -0.625025   \n",
       "\n",
       "   remainder__YearsAtCompany  remainder__YearsSinceLastPromotion  \\\n",
       "0                   0.293523                            0.480121   \n",
       "1                   0.293523                           -0.360329   \n",
       "2                   2.115044                           -0.780554   \n",
       "3                   0.495914                            1.740795   \n",
       "4                  -0.516042                           -0.360329   \n",
       "\n",
       "   remainder__YearsWithCurrManager  \n",
       "0                        -1.143162  \n",
       "1                         0.828628  \n",
       "2                         3.082104  \n",
       "3                         0.828628  \n",
       "4                        -0.579794  \n",
       "\n",
       "[5 rows x 37 columns]"
      ]
     },
     "execution_count": 34,
     "metadata": {},
     "output_type": "execute_result"
    }
   ],
   "source": [
    "from sklearn.preprocessing import StandardScaler\n",
    "ss_scale=StandardScaler()\n",
    "X_train_std=ss_scale.fit_transform(X_train)\n",
    "X_train_std=pd.DataFrame(X_train_std,columns = X_train.columns)\n",
    "X_test_std=ss_scale.transform(X_test)\n",
    "X_test_std=pd.DataFrame(X_test_std,columns = X_test.columns)\n",
    "X_train_std.head()"
   ]
  },
  {
   "cell_type": "code",
   "execution_count": null,
   "id": "7323a8ab",
   "metadata": {},
   "outputs": [],
   "source": []
  }
 ],
 "metadata": {
  "kernelspec": {
   "display_name": "Python 3 (ipykernel)",
   "language": "python",
   "name": "python3"
  },
  "language_info": {
   "codemirror_mode": {
    "name": "ipython",
    "version": 3
   },
   "file_extension": ".py",
   "mimetype": "text/x-python",
   "name": "python",
   "nbconvert_exporter": "python",
   "pygments_lexer": "ipython3",
   "version": "3.9.7"
  }
 },
 "nbformat": 4,
 "nbformat_minor": 5
}
